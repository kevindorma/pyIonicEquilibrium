{
 "cells": [
  {
   "cell_type": "markdown",
   "metadata": {},
   "source": [
    "$$\n",
    "H_2S  \\rightleftharpoons HS^{-1} + H^+ \\\\\n",
    "H_2CO_3  \\rightleftharpoons HCO_3^{-1} + H^+ \\\\\n",
    "HCO_3^{-1}  \\rightleftharpoons CO_3^{-2} + H^+ \\\\\n",
    "H_2O  \\rightleftharpoons OH^{-1} + H^+ \\\\\n",
    "HS^{-1}  \\rightleftharpoons S^{-2} + H^+\n",
    "$$\n",
    "\n",
    "$$\n",
    "\\left[\\begin{matrix}\n",
    "I & S^T & 0 \\\\\n",
    "0 & 0 & S \\\\\n",
    "I & 0 & -I c \\\\\n",
    "\\end{matrix}\\right]\n",
    "\\left[\n",
    "\\begin{matrix}\n",
    "c^{n+1} \\\\ \n",
    "r \\\\\n",
    "(\\ln{c})^{n+1} \\\\\n",
    "\\end{matrix}\n",
    "\\right]\n",
    "=\n",
    "\\left[\\begin{matrix}\n",
    "c_{o}\\\\\n",
    "\\ln{K}\\\\\n",
    "\\exp{(\\ln c)}(1 - (\\ln c))\\\\\n",
    "\\end{matrix}\\right]\n",
    "$$"
   ]
  }
 ],
 "metadata": {
  "kernelspec": {
   "display_name": "Python 3",
   "language": "python",
   "name": "python3"
  },
  "language_info": {
   "codemirror_mode": {
    "name": "ipython",
    "version": 3
   },
   "file_extension": ".py",
   "mimetype": "text/x-python",
   "name": "python",
   "nbconvert_exporter": "python",
   "pygments_lexer": "ipython3",
   "version": "3.7.4"
  }
 },
 "nbformat": 4,
 "nbformat_minor": 2
}
