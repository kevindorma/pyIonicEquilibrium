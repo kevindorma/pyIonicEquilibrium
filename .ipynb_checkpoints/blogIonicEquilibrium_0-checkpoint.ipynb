{
 "cells": [
  {
   "cell_type": "markdown",
   "metadata": {},
   "source": [
    "# Calculation Template\n",
    "## Client: INTERNAL\n",
    "---\n",
    "## Project: A novel solution method for equilibrium with competing reactions\n",
    "## Calc: 2021-CALC-Eqm-001\n",
    "## By: K. Dorma\n",
    "## Date: July, 2021\n",
    "---\n",
    "## Authentication\n",
    "> Stamp, Permit\n",
    "---\n",
    "## Revision History\n",
    "|Revision | Date | Description | By | Reviewer|\n",
    "| :-------| :----|:------------|:---|:--------|\n",
    "|    1.0  | Dec. 2020 | Demo code | KCD |  |\n",
    "|    2.0  | feb 13 2020   | Python    | KCD     |    |\n",
    "\n",
    "---"
   ]
  },
  {
   "cell_type": "markdown",
   "metadata": {},
   "source": [
    "## Abstract\n",
    "Write something."
   ]
  },
  {
   "cell_type": "markdown",
   "metadata": {},
   "source": [
    "## Introduction\n",
    "\n",
    "Equilibrium calculations form the heart of chemical engineering. The most frustrating applications are with ionic solutions where there are a large number of species and many competing reactions.\n",
    "\n",
    "There is some great software for this, many of which are derived from MINEQL which originated at MIT in the early 1970's. MINEQL uses a simultaneous solution to the linear material balance equations and the nonlinear equilibrium expressions (refer to Wolery for an explaination of the mathematics).\n",
    "\n",
    "This short note presents a novel variation of the iterative solution method used in MINEQL. It is hoped that this new algorithm is easier to implement in a spreadsheet or high level programming languages such as SciLab or Python. We will combine concpets in matrix algebra and Taylor series to devise a standard way to approach a difficult problem in chemistry.\n",
    "\n"
   ]
  },
  {
   "cell_type": "markdown",
   "metadata": {},
   "source": [
    "## Governing equation\n",
    "\n",
    "The mathematics will be developed using the following set of equilibrium reactions involving the carbonate and sulfide systems. Each reaction has an equilibrium constant K_i and an extent of reaction r_i.\n",
    "\n",
    "* H2S + OH- = HS- + H2O\t\t\t\t(K1, r1)\n",
    "* CO2 + OH- = HCO3-\t\t\t\t\t(K2, r2)\n",
    "* HCO3- + OH- = CO3-2 + H2O\t\t\t\t(K3, r3)\n",
    "* H2O = H+ + OH-\t\t\t\t\t(K4, r4)\n",
    "* HS- + OH- = S-2 + H2O\t\t\t\t(K5, r5)\n",
    "\n",
    "Precipitation of a solute is not considered.\n",
    "\n",
    "\n",
    "The reaction stoichimetry is expressed as a matrix S(m,n) where m is the number of reactions and n is the number of species:\n",
    "\n",
    "\n",
    "|Equation | OH- | H2S | HS- | CO2| HCO3 | CO32- | H+ | S2- | H2O |\n",
    "| :-------| :---|:----|:----|:---|:-----|:------|:---|:----|:----|\n",
    "| H2S + NaOH = NaHS + H2O| -1| -1| 1 | 0 | 0 | 0 | 0 | 0 | 1 |\n",
    "| CO2 + NaOH = NaHCO3    | -1| 0 | 0 | -1| 1 | 0 | 0 | 0 | 0 |\n",
    "|NaHCO3+NaOH=Na2CO3 + H20| -1| 0 | 0 | 0 | -1| 1 | 0 | 0 | 1 |\n",
    "| H2O = H+ + OH-         |  1| 0 | 0 | 0 | 0 | 0 | 1 | 0 | -1|\n",
    "|NaHS + NaOH = Na2S + H2O| -1| 0 | -1| 0 | 0 | 0 | 0 | 1 | 1 |\n",
    "\n",
    "\n",
    "The concentration of each species is denoted C_i. The material balance for each reaction is represented by the matrix equation:\n",
    "\n",
    "S c = 0\n",
    "\n",
    "where the stoichiometry matrix S does _not_ include the solvent species water.\n",
    "\n",
    "The material balance stochiometry for the set of reactions is represented by the linear equation:\n",
    "\n",
    "|Species | Initial Conc | r1 | r2 | r3 | r4 | r5 |\n",
    "| :------| :------------|:---|:---|:---|:---|:---|\n",
    "| OH-    | [OH-]ic      | 1  |  1 |  1 | -1 | 1  | \n",
    "| H2S    | [H2S]ic      |-1  |  0 |  0 |  0 | 0  | \n",
    "| HS-    | [HS-]ic      | 1  |  0 |  0 |  0 | -1 | \n",
    "| CO2    | [CO2]ic      | 0  | -1 |  0 |  0 | 0  | \n",
    "| HCO3-  | [HCO3-]ic    | 0  |  1 | -1 |  0 | 0  | \n",
    "| CO32-  | [CO32-]ic    | 0  |  0 |  1 |  0 | 0  | \n",
    "| H+     | [H+]ic       | 0  |  0 |  0 |  0 | 1  | \n",
    "| S2-    | [S2-]ic      | 1  |  0 |  1 | -1 | 1  | \n",
    "\n",
    "The concentration of each species is related to the initial concentration of each species by the matrix equation\n",
    "$$\n",
    "I c - S^T r = c_{IC}\n",
    "$$\n",
    "\n",
    "Each of the five equilibrium products are:\n",
    "* K1 = [HS-] / [H2S] [OH-]\n",
    "* K2 = [HCO3-] / [CO2] [OH-]\n",
    "* K3 = [CO3-2] / [HCO3-] [OH-]\n",
    "* K4 = [H+][OH-]\n",
    "* K5 = [S-2] / [OH-] [HS-]\n",
    "\n",
    "These equations are written in a linear form by taking the logarithm.\n",
    "\n",
    "* ln K1 = ln [HS-] – ln [H2S] – ln [OH-]\n",
    "* ln K2 = ln [HCO3-] - ln [CO2] – ln [OH-]\t\n",
    "* ln K3 = ln [CO3-2] – ln [HCO3-] – ln [OH-]\n",
    "* ln K4 = ln [H+] + ln [OH-]\n",
    "* ln K5 = ln [S-2] – ln [OH-] – ln [HS-]\n",
    "\n",
    "We can write the equilibrium expressions using the stoichiometry matrix S:\n",
    "\n",
    "S (ln c) = ln K\n",
    "\n",
    "This is where the computational difficulty arrises. The material balances and reaction extents are linear with respect to the species concentration, while the equilibrium expressions are linear with respect to the logarithm of concenentration.\n",
    "\n",
    "The MINEQL algorithm uses the logarithm of concentrations as the solution variables, which makes the equilibrium expression linear.\n",
    "The reaction extent and material balances are expressed as non-linear functions of (ln ci). \n",
    "\n",
    "\n",
    "I cannot find an example of this.\n",
    "\n",
    "The material balance expressions are written as exponential functions of (ln ci), and the entries in the Jacobian matrix is c\n",
    "\n",
    "\n",
    "We will take a different approach, with the intention of creating a simple recipe for setting up equations for solving equilibrium problems.\n",
    "\n",
    "Consider the variable x and its logarithm. The two are related by the identity:\n",
    "\n",
    "x = exp(ln x)\n",
    "\n",
    "We seek a linear approximation to relate the variable x and the logarithm of the variable.\n",
    "\n",
    "Note that the derivative is\n",
    "dx / d(ln x) = exp(ln x)\n",
    "\n",
    "Since we have estimates of x and ln x at the n iteration level, we can use a Taylor series to write a linear equation for the value of x and ln x at the n+1 iteration level\n",
    "\n",
    "Something is wrong with this. My spreadsheet works and this does not.\n",
    "\n",
    "* x^{n+1} = x + (ln x^{n+1} - ln x) d(e^{ln x})/d(ln x)\n",
    "* x^{n+1} = x + (ln x^{n+1} - ln x) e^{ln x}\n",
    "* x^{n+1} - e^{ln x} (ln x^{n+1}) = e^{ln x} (1 - (ln x) )\n",
    "\n",
    "The last equation couples the value of the concentration to the logarithm of concentration.  This relationship is important because it ensures that we only use real values for concentrations.  A negative value for a concentration does not impact the solution to the linear system.\n",
    "\n",
    "This expression is written as:\n",
    "$$\n",
    "c^{n+1} – c (\\ln c)^{n+1} = c ( 1 – \\ln c)\n",
    "$$\n",
    "or in matrix form\n",
    "$$\n",
    "I c^{n+1} - \\delta c (\\ln c)^{n+1} = e^{\\ln c} (1 - \\ln c)\n",
    "$$\n",
    "where c and (ln c) are the past estimates for these variables.\n",
    "\n",
    "Given the known values for the right hand side vector b, these 21 equations and unknowns form a matrix equation of the form\n",
    "\n",
    "$$\n",
    "A x^{n+1} = b\n",
    "$$\n",
    "\n",
    "which defines the conservation of mass for each species, equilibrium for each reaction and the Taylor series to relate species concentration and it's logarithm.\n",
    "\n",
    "The solution vector _x_ comprises the species concentration _c_, the extent of each reaction _r_ and the logarithm of the species concentration _ln c_.\n",
    "$$\n",
    "x^{n+1}=\\left[\n",
    "\\begin{matrix}\n",
    "c^{n+1} \\\\ \n",
    "r \\\\\n",
    "(\\ln{c})^{n+1} \\\\\n",
    "\\end{matrix}\n",
    "\\right]\n",
    "$$\n",
    "\n",
    "And\n",
    "$$\n",
    "A=\\left[\\begin{matrix}\n",
    "I & S^T & 0 \\\\\n",
    "0 & 0 & -S \\\\\n",
    "I & 0 & -I c \\\\\n",
    "\\end{matrix}\\right]\n",
    "$$\n",
    "\n",
    "$$\n",
    "b=\\left[\\begin{matrix}\n",
    "c_{o}\\\\\n",
    "\\ln{K}\\\\\n",
    "\\exp{(\\ln c)}(1 - (\\ln c))\\\\\n",
    "\\end{matrix}\\right]\n",
    "$$\n",
    "\n",
    "\n",
    "The next guess for each of the unknowns is obtained by solving\n",
    "$$\n",
    "x^{n+1} = A^{-1} b\n",
    "$$\n"
   ]
  },
  {
   "cell_type": "markdown",
   "metadata": {},
   "source": [
    "## Example"
   ]
  },
  {
   "cell_type": "markdown",
   "metadata": {},
   "source": [
    "## References\n",
    "\n",
    "* MINEQL, https://mineql.com/index.html\n",
    "* T.J. Wolery, CALCULATION OF CHEMICAL EQUILIBRIUM BETWEEN AQUEOUS SOLUTION AND MINERALS: THE EQ3/6 SOFTWARE PACKAGE, UCRL-52658 (1979)\n"
   ]
  },
  {
   "cell_type": "code",
   "execution_count": 23,
   "metadata": {},
   "outputs": [],
   "source": [
    "import numpy as np\n",
    "import pandas as pd\n",
    "import math\n",
    "import scipy as sp\n",
    "import copy\n",
    "from scipy import interpolate\n"
   ]
  },
  {
   "cell_type": "code",
   "execution_count": 24,
   "metadata": {},
   "outputs": [],
   "source": [
    "# set our input file\n",
    "ourData = 'reactionDataTest.xlsx'"
   ]
  },
  {
   "cell_type": "code",
   "execution_count": 25,
   "metadata": {
    "scrolled": true
   },
   "outputs": [],
   "source": [
    "# get our data\n",
    "speciesData = pd.read_excel(ourData, sheet_name=\"speciesDataShort\")\n",
    "\n",
    "reactionData = pd.read_excel(ourData, sheet_name=\"reactions\")\n",
    "\n"
   ]
  },
  {
   "cell_type": "code",
   "execution_count": 26,
   "metadata": {
    "scrolled": true
   },
   "outputs": [
    {
     "data": {
      "text/html": [
       "<div>\n",
       "<style scoped>\n",
       "    .dataframe tbody tr th:only-of-type {\n",
       "        vertical-align: middle;\n",
       "    }\n",
       "\n",
       "    .dataframe tbody tr th {\n",
       "        vertical-align: top;\n",
       "    }\n",
       "\n",
       "    .dataframe thead th {\n",
       "        text-align: right;\n",
       "    }\n",
       "</style>\n",
       "<table border=\"1\" class=\"dataframe\">\n",
       "  <thead>\n",
       "    <tr style=\"text-align: right;\">\n",
       "      <th></th>\n",
       "      <th>species</th>\n",
       "      <th>initialConc</th>\n",
       "      <th>concUnits</th>\n",
       "      <th>initialGuess</th>\n",
       "    </tr>\n",
       "  </thead>\n",
       "  <tbody>\n",
       "    <tr>\n",
       "      <td>0</td>\n",
       "      <td>OH-</td>\n",
       "      <td>0.000000</td>\n",
       "      <td>kgmol/m3</td>\n",
       "      <td>1</td>\n",
       "    </tr>\n",
       "    <tr>\n",
       "      <td>1</td>\n",
       "      <td>H2S</td>\n",
       "      <td>0.003040</td>\n",
       "      <td>NaN</td>\n",
       "      <td>1</td>\n",
       "    </tr>\n",
       "    <tr>\n",
       "      <td>2</td>\n",
       "      <td>HS-</td>\n",
       "      <td>0.000000</td>\n",
       "      <td>NaN</td>\n",
       "      <td>1</td>\n",
       "    </tr>\n",
       "    <tr>\n",
       "      <td>3</td>\n",
       "      <td>CO2</td>\n",
       "      <td>0.000102</td>\n",
       "      <td>NaN</td>\n",
       "      <td>1</td>\n",
       "    </tr>\n",
       "    <tr>\n",
       "      <td>4</td>\n",
       "      <td>HCO3-</td>\n",
       "      <td>0.000000</td>\n",
       "      <td>NaN</td>\n",
       "      <td>1</td>\n",
       "    </tr>\n",
       "    <tr>\n",
       "      <td>5</td>\n",
       "      <td>CO32-</td>\n",
       "      <td>0.000000</td>\n",
       "      <td>NaN</td>\n",
       "      <td>1</td>\n",
       "    </tr>\n",
       "    <tr>\n",
       "      <td>6</td>\n",
       "      <td>H+</td>\n",
       "      <td>0.000000</td>\n",
       "      <td>NaN</td>\n",
       "      <td>1</td>\n",
       "    </tr>\n",
       "    <tr>\n",
       "      <td>7</td>\n",
       "      <td>S2-</td>\n",
       "      <td>0.000000</td>\n",
       "      <td>NaN</td>\n",
       "      <td>1</td>\n",
       "    </tr>\n",
       "    <tr>\n",
       "      <td>8</td>\n",
       "      <td>H2O</td>\n",
       "      <td>55.509298</td>\n",
       "      <td>NaN</td>\n",
       "      <td>1</td>\n",
       "    </tr>\n",
       "  </tbody>\n",
       "</table>\n",
       "</div>"
      ],
      "text/plain": [
       "  species  initialConc concUnits  initialGuess\n",
       "0     OH-     0.000000  kgmol/m3             1\n",
       "1     H2S     0.003040       NaN             1\n",
       "2     HS-     0.000000       NaN             1\n",
       "3     CO2     0.000102       NaN             1\n",
       "4   HCO3-     0.000000       NaN             1\n",
       "5   CO32-     0.000000       NaN             1\n",
       "6      H+     0.000000       NaN             1\n",
       "7     S2-     0.000000       NaN             1\n",
       "8     H2O    55.509298       NaN             1"
      ]
     },
     "execution_count": 26,
     "metadata": {},
     "output_type": "execute_result"
    }
   ],
   "source": [
    "speciesData\n",
    "# I need the initial concentration and the initial guess"
   ]
  },
  {
   "cell_type": "code",
   "execution_count": 27,
   "metadata": {},
   "outputs": [
    {
     "data": {
      "text/html": [
       "<div>\n",
       "<style scoped>\n",
       "    .dataframe tbody tr th:only-of-type {\n",
       "        vertical-align: middle;\n",
       "    }\n",
       "\n",
       "    .dataframe tbody tr th {\n",
       "        vertical-align: top;\n",
       "    }\n",
       "\n",
       "    .dataframe thead th {\n",
       "        text-align: right;\n",
       "    }\n",
       "</style>\n",
       "<table border=\"1\" class=\"dataframe\">\n",
       "  <thead>\n",
       "    <tr style=\"text-align: right;\">\n",
       "      <th></th>\n",
       "      <th>reactionName</th>\n",
       "      <th>reactionText</th>\n",
       "      <th>reference</th>\n",
       "      <th>Keqm0</th>\n",
       "      <th>OH-</th>\n",
       "      <th>H2S</th>\n",
       "      <th>HS-</th>\n",
       "      <th>CO2</th>\n",
       "      <th>HCO3-</th>\n",
       "      <th>CO32-</th>\n",
       "      <th>H+</th>\n",
       "      <th>S2-</th>\n",
       "      <th>H2O</th>\n",
       "    </tr>\n",
       "  </thead>\n",
       "  <tbody>\n",
       "    <tr>\n",
       "      <td>0</td>\n",
       "      <td>bisulfide</td>\n",
       "      <td>H2S + OH- = HS- + H2O</td>\n",
       "      <td>a-table-d.pdf</td>\n",
       "      <td>9.090909e-08</td>\n",
       "      <td>-1</td>\n",
       "      <td>-1</td>\n",
       "      <td>1</td>\n",
       "      <td>0</td>\n",
       "      <td>0</td>\n",
       "      <td>0</td>\n",
       "      <td>0</td>\n",
       "      <td>0</td>\n",
       "      <td>1</td>\n",
       "    </tr>\n",
       "    <tr>\n",
       "      <td>1</td>\n",
       "      <td>bicarbonate</td>\n",
       "      <td>HCO3- = CO2 + OH-</td>\n",
       "      <td>NaN</td>\n",
       "      <td>2.380952e-08</td>\n",
       "      <td>-1</td>\n",
       "      <td>0</td>\n",
       "      <td>0</td>\n",
       "      <td>-1</td>\n",
       "      <td>1</td>\n",
       "      <td>0</td>\n",
       "      <td>0</td>\n",
       "      <td>0</td>\n",
       "      <td>0</td>\n",
       "    </tr>\n",
       "    <tr>\n",
       "      <td>2</td>\n",
       "      <td>carbonate</td>\n",
       "      <td>CO32- + H20 = HCO3- + OH-</td>\n",
       "      <td>NaN</td>\n",
       "      <td>2.083333e-04</td>\n",
       "      <td>-1</td>\n",
       "      <td>0</td>\n",
       "      <td>0</td>\n",
       "      <td>0</td>\n",
       "      <td>-1</td>\n",
       "      <td>1</td>\n",
       "      <td>0</td>\n",
       "      <td>0</td>\n",
       "      <td>1</td>\n",
       "    </tr>\n",
       "    <tr>\n",
       "      <td>3</td>\n",
       "      <td>water</td>\n",
       "      <td>H2O = H+ + OH-</td>\n",
       "      <td>NaN</td>\n",
       "      <td>1.000000e-14</td>\n",
       "      <td>1</td>\n",
       "      <td>0</td>\n",
       "      <td>0</td>\n",
       "      <td>0</td>\n",
       "      <td>0</td>\n",
       "      <td>0</td>\n",
       "      <td>1</td>\n",
       "      <td>0</td>\n",
       "      <td>-1</td>\n",
       "    </tr>\n",
       "    <tr>\n",
       "      <td>4</td>\n",
       "      <td>disulfide</td>\n",
       "      <td>HS- + OH- = S2- + H2O</td>\n",
       "      <td>NaN</td>\n",
       "      <td>1.000000e+00</td>\n",
       "      <td>-1</td>\n",
       "      <td>0</td>\n",
       "      <td>-1</td>\n",
       "      <td>0</td>\n",
       "      <td>0</td>\n",
       "      <td>0</td>\n",
       "      <td>0</td>\n",
       "      <td>1</td>\n",
       "      <td>1</td>\n",
       "    </tr>\n",
       "  </tbody>\n",
       "</table>\n",
       "</div>"
      ],
      "text/plain": [
       "  reactionName               reactionText      reference         Keqm0  OH-  \\\n",
       "0    bisulfide      H2S + OH- = HS- + H2O  a-table-d.pdf  9.090909e-08   -1   \n",
       "1  bicarbonate         HCO3- = CO2 + OH-             NaN  2.380952e-08   -1   \n",
       "2    carbonate  CO32- + H20 = HCO3- + OH-            NaN  2.083333e-04   -1   \n",
       "3        water             H2O = H+ + OH-            NaN  1.000000e-14    1   \n",
       "4    disulfide      HS- + OH- = S2- + H2O            NaN  1.000000e+00   -1   \n",
       "\n",
       "   H2S  HS-  CO2  HCO3-  CO32-  H+  S2-  H2O  \n",
       "0   -1    1    0      0      0   0    0    1  \n",
       "1    0    0   -1      1      0   0    0    0  \n",
       "2    0    0    0     -1      1   0    0    1  \n",
       "3    0    0    0      0      0   1    0   -1  \n",
       "4    0   -1    0      0      0   0    1    1  "
      ]
     },
     "execution_count": 27,
     "metadata": {},
     "output_type": "execute_result"
    }
   ],
   "source": [
    "reactionData"
   ]
  },
  {
   "cell_type": "code",
   "execution_count": 28,
   "metadata": {},
   "outputs": [],
   "source": [
    "# create the stoichiometry matrix S, ignore water as per convention\n",
    "S = reactionData[['OH-', 'H2S', 'HS-', 'CO2', 'HCO3-', 'CO32-', 'H+', 'S2-']].to_numpy()\n",
    "# and the equilibrium constants\n",
    "K = reactionData[['Keqm0']].to_numpy()\n",
    "lnK = np.log(K).T\n",
    "nRxn = np.size(S,(0))\n"
   ]
  },
  {
   "cell_type": "code",
   "execution_count": 29,
   "metadata": {
    "scrolled": true
   },
   "outputs": [],
   "source": [
    "# this is a messy way to get the initial concentrations for everything but water (at the end)\n",
    "testInit = speciesData[['initialConc']].to_numpy()\n",
    "nSpecies = np.size(testInit)-1\n",
    "concInit = np.zeros(nSpecies)\n",
    "concInit = testInit[0:nSpecies]"
   ]
  },
  {
   "cell_type": "code",
   "execution_count": 30,
   "metadata": {},
   "outputs": [
    {
     "data": {
      "text/plain": [
       "(array([[1, 1, 1, 1, 1, 1, 1, 1]]), array([[1., 1., 1., 1., 1., 1., 1., 1.]]))"
      ]
     },
     "execution_count": 30,
     "metadata": {},
     "output_type": "execute_result"
    }
   ],
   "source": [
    "# this is a messy way to get the initial guesses for everything but water (at the end)\n",
    "testGuess = speciesData[['initialGuess']].to_numpy()\n",
    "conc = np.zeros(nSpecies)\n",
    "conc = testGuess[0:nSpecies].T\n",
    "# we will iterate on conc\n",
    "lnConc = np.log(conc) + 1\n",
    "conc, lnConc"
   ]
  },
  {
   "cell_type": "code",
   "execution_count": 31,
   "metadata": {},
   "outputs": [
    {
     "data": {
      "text/plain": [
       "array([0., 0., 0., 0., 0.])"
      ]
     },
     "execution_count": 31,
     "metadata": {},
     "output_type": "execute_result"
    }
   ],
   "source": [
    "rExtent = np.zeros(nRxn) # reaction extent\n",
    "rExtent"
   ]
  },
  {
   "cell_type": "code",
   "execution_count": 32,
   "metadata": {},
   "outputs": [],
   "source": [
    "# we need some block matrices for\n",
    "\n",
    "# | I  S^T  0  | |c  | = | cO         |\n",
    "# | 0   0  -S  | |r  |   | -ln K      |\n",
    "# | I   0  -Ic | |lnc|   | exp(ln(c)*(1−(lnc)) |\n",
    "\n",
    "# make some zeros and identity matrix\n",
    "z02 = np.zeros((nSpecies,nSpecies))\n",
    "\n",
    "z10 = np.zeros((nRxn,nSpecies))\n",
    "z11 = np.zeros((nRxn,nRxn))\n",
    "\n",
    "z21 = np.zeros((nSpecies,nRxn))\n",
    "\n",
    "eye = np.identity(nSpecies)\n"
   ]
  },
  {
   "cell_type": "code",
   "execution_count": 167,
   "metadata": {
    "scrolled": true
   },
   "outputs": [
    {
     "data": {
      "text/plain": [
       "array([[-1.00000000e-07, -0.00000000e+00, -0.00000000e+00,\n",
       "        -0.00000000e+00, -0.00000000e+00, -0.00000000e+00,\n",
       "        -0.00000000e+00, -0.00000000e+00],\n",
       "       [-0.00000000e+00, -3.04000000e-03, -0.00000000e+00,\n",
       "        -0.00000000e+00, -0.00000000e+00, -0.00000000e+00,\n",
       "        -0.00000000e+00, -0.00000000e+00],\n",
       "       [-0.00000000e+00, -0.00000000e+00, -2.76363636e-17,\n",
       "        -0.00000000e+00, -0.00000000e+00, -0.00000000e+00,\n",
       "        -0.00000000e+00, -0.00000000e+00],\n",
       "       [-0.00000000e+00, -0.00000000e+00, -0.00000000e+00,\n",
       "        -1.02701073e-04, -0.00000000e+00, -0.00000000e+00,\n",
       "        -0.00000000e+00, -0.00000000e+00],\n",
       "       [-0.00000000e+00, -0.00000000e+00, -0.00000000e+00,\n",
       "        -0.00000000e+00, -2.44526364e-19, -0.00000000e+00,\n",
       "        -0.00000000e+00, -0.00000000e+00],\n",
       "       [-0.00000000e+00, -0.00000000e+00, -0.00000000e+00,\n",
       "        -0.00000000e+00, -0.00000000e+00, -5.09429925e-30,\n",
       "        -0.00000000e+00, -0.00000000e+00],\n",
       "       [-0.00000000e+00, -0.00000000e+00, -0.00000000e+00,\n",
       "        -0.00000000e+00, -0.00000000e+00, -0.00000000e+00,\n",
       "        -1.00000000e-07, -0.00000000e+00],\n",
       "       [-0.00000000e+00, -0.00000000e+00, -0.00000000e+00,\n",
       "        -0.00000000e+00, -0.00000000e+00, -0.00000000e+00,\n",
       "        -0.00000000e+00, -2.76363636e-24]])"
      ]
     },
     "execution_count": 167,
     "metadata": {},
     "output_type": "execute_result"
    }
   ],
   "source": [
    "# now what?\n",
    "# set up a loop\n",
    "# create block matrix\n",
    "blockA = np.block([[eye, S.T, z02],\n",
    "                   [z10, z11,   S],\n",
    "                   [eye, z21, -eye*np.exp(lnConc)]])\n",
    "S.T\n",
    "S\n",
    "-eye*np.exp(lnConc)"
   ]
  },
  {
   "cell_type": "code",
   "execution_count": 168,
   "metadata": {
    "scrolled": true
   },
   "outputs": [
    {
     "data": {
      "text/plain": [
       "array([[ 0.00000000e+00,  3.04000000e-03,  0.00000000e+00,\n",
       "         1.02000000e-04,  0.00000000e+00,  0.00000000e+00,\n",
       "         0.00000000e+00,  0.00000000e+00, -1.62134058e+01,\n",
       "        -1.75531802e+01, -8.47637120e+00, -3.22361913e+01,\n",
       "         0.00000000e+00,  1.71180956e-06,  2.06595292e-02,\n",
       "         1.08133903e-15,  1.04587568e-03,  1.07236948e-17,\n",
       "         3.48701883e-28,  1.71180957e-06,  1.52678459e-22]])"
      ]
     },
     "execution_count": 168,
     "metadata": {},
     "output_type": "execute_result"
    }
   ],
   "source": [
    "blockb = np.block([concInit.T, lnK, np.exp(lnConc)*(1.0-lnConc)])\n",
    "blockb"
   ]
  },
  {
   "cell_type": "code",
   "execution_count": 169,
   "metadata": {
    "scrolled": true
   },
   "outputs": [],
   "source": [
    "nextX = np.linalg.solve(blockA,blockb.T)"
   ]
  },
  {
   "cell_type": "code",
   "execution_count": 170,
   "metadata": {
    "scrolled": true
   },
   "outputs": [
    {
     "data": {
      "text/plain": [
       "(array([[ 1.00000000e-07,  3.04000000e-03,  2.75244578e-17,\n",
       "          1.02000000e-04,  0.00000000e+00,  5.65595663e-17,\n",
       "          1.00000000e-07, -9.27942756e-17]]),\n",
       " array([[ 6.52698178e-17, -5.65595663e-17, -5.65595663e-17,\n",
       "         -1.00000000e-07,  9.27942756e-17]]),\n",
       " array([[-16.11809565,  -5.79589776, -38.12739925,  -9.19051434,\n",
       "         -42.86179017, -67.45625701, -16.11809565, -54.2454949 ]]),\n",
       " 0.011823573825337372)"
      ]
     },
     "execution_count": 170,
     "metadata": {},
     "output_type": "execute_result"
    }
   ],
   "source": [
    "concNext, rNext, lnCnext = np.split(nextX, [nSpecies,nSpecies+nRxn])\n",
    "lnCErr = np.linalg.norm(lnConc.T - lnCnext)\n",
    "\n",
    "concNext.T, rNext.T, lnCnext.T, lnCErr\n",
    "\n"
   ]
  },
  {
   "cell_type": "code",
   "execution_count": 171,
   "metadata": {},
   "outputs": [],
   "source": [
    "conc = concNext.T\n",
    "rExtent = rNext.T\n",
    "lnConc = lnCnext.T"
   ]
  },
  {
   "cell_type": "code",
   "execution_count": null,
   "metadata": {},
   "outputs": [],
   "source": []
  },
  {
   "cell_type": "code",
   "execution_count": null,
   "metadata": {},
   "outputs": [],
   "source": []
  },
  {
   "cell_type": "code",
   "execution_count": null,
   "metadata": {},
   "outputs": [],
   "source": []
  },
  {
   "cell_type": "code",
   "execution_count": null,
   "metadata": {},
   "outputs": [],
   "source": []
  },
  {
   "cell_type": "code",
   "execution_count": null,
   "metadata": {},
   "outputs": [],
   "source": []
  },
  {
   "cell_type": "code",
   "execution_count": null,
   "metadata": {},
   "outputs": [],
   "source": []
  }
 ],
 "metadata": {
  "kernelspec": {
   "display_name": "Python 3",
   "language": "python",
   "name": "python3"
  },
  "language_info": {
   "codemirror_mode": {
    "name": "ipython",
    "version": 3
   },
   "file_extension": ".py",
   "mimetype": "text/x-python",
   "name": "python",
   "nbconvert_exporter": "python",
   "pygments_lexer": "ipython3",
   "version": "3.7.4"
  }
 },
 "nbformat": 4,
 "nbformat_minor": 2
}
